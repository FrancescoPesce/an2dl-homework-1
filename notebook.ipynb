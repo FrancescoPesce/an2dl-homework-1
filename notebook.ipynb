{
 "cells": [
  {
   "cell_type": "markdown",
   "metadata": {
    "id": "nuwVgG3Vbbka"
   },
   "source": [
    "# Artificial Neural Networks and Deep Learning\n",
    "\n",
    "---\n",
    "\n",
    "## Homework 1: Minimal Working Example\n",
    "\n",
    "To make your first submission, follow these steps:\n",
    "1. Create a folder named `[2024-2025] AN2DL/Homework 1` in your Google Drive.\n",
    "2. Upload the `training_set.npz` file to this folder.\n",
    "3. Upload the Jupyter notebook `Homework 1 - Minimal Working Example.ipynb`.\n",
    "4. Load and process the data.\n",
    "5. Implement and train your model.\n",
    "6. Submit the generated `.zip` file to Codabench.\n"
   ]
  },
  {
   "cell_type": "markdown",
   "metadata": {
    "id": "dw_-hFm6bjY6"
   },
   "source": [
    "## 🌐 Connect Colab to Google Drive"
   ]
  },
  {
   "cell_type": "code",
   "execution_count": null,
   "metadata": {
    "colab": {
     "base_uri": "https://localhost:8080/"
    },
    "executionInfo": {
     "elapsed": 23716,
     "status": "ok",
     "timestamp": 1731183840005,
     "user": {
      "displayName": "Francesco Pesce",
      "userId": "06928891303402167220"
     },
     "user_tz": -60
    },
    "id": "y2S4GWr3Uoa8",
    "outputId": "d4e4e627-5e6f-4a53-cba9-ae12a6116476"
   },
   "outputs": [],
   "source": [
    "#from google.colab import drive\n",
    "\n",
    "#drive.mount('/gdrive')\n",
    "#%cd /gdrive/My Drive/[2024-2025] AN2DL/Homework 1"
   ]
  },
  {
   "cell_type": "markdown",
   "metadata": {
    "id": "d7IqZP5Iblna"
   },
   "source": [
    "## ⚙️ Import Libraries"
   ]
  },
  {
   "cell_type": "code",
   "execution_count": null,
   "metadata": {
    "executionInfo": {
     "elapsed": 10362,
     "status": "ok",
     "timestamp": 1731183850359,
     "user": {
      "displayName": "Francesco Pesce",
      "userId": "06928891303402167220"
     },
     "user_tz": -60
    },
    "id": "CO6_Ft_8T56A"
   },
   "outputs": [],
   "source": [
    "import numpy as np\n",
    "import tensorflow as tf\n",
    "\n",
    "import matplotlib.pyplot as plt\n",
    "from tensorflow import keras as tfk\n",
    "from tensorflow.keras import layers as tfkl\n",
    "\n",
    "import keras_cv.layers\n",
    "\n",
    "seed = 11037\n",
    "np.random.seed(seed)\n",
    "tf.random.set_seed(seed)\n",
    "\n",
    "import random\n",
    "random.seed(seed)"
   ]
  },
  {
   "cell_type": "markdown",
   "metadata": {
    "id": "GN_cpHlSboXV"
   },
   "source": [
    "## ⏳ Load the Data"
   ]
  },
  {
   "cell_type": "code",
   "execution_count": null,
   "metadata": {
    "executionInfo": {
     "elapsed": 882,
     "status": "ok",
     "timestamp": 1731183853802,
     "user": {
      "displayName": "Francesco Pesce",
      "userId": "06928891303402167220"
     },
     "user_tz": -60
    },
    "id": "pLaoDaG1V1Yg"
   },
   "outputs": [],
   "source": [
    "# Read training_set.npz to get the dataframe.\n",
    "data = np.load('training_set.npz', allow_pickle=True)\n",
    "\n",
    "# Normal images up to 11958, shrek from 11959 to 13558, rick from 13559 to 13758.\n",
    "images = data['images'][:11959]\n",
    "labels = data['labels'][:11959]"
   ]
  },
  {
   "cell_type": "code",
   "execution_count": null,
   "metadata": {
    "colab": {
     "base_uri": "https://localhost:8080/"
    },
    "executionInfo": {
     "elapsed": 19254,
     "status": "ok",
     "timestamp": 1731183873357,
     "user": {
      "displayName": "Francesco Pesce",
      "userId": "06928891303402167220"
     },
     "user_tz": -60
    },
    "id": "58ux8jweXc5q",
    "outputId": "3359968f-f8a1-4654-d1f4-ef4997cf353c"
   },
   "outputs": [],
   "source": [
    "# Images are stored as 96x96x3 numpy arrays.\n",
    "print(\"Shape of all images:\")\n",
    "print(images[0].shape)\n",
    "\n",
    "# Count the images.\n",
    "print()\n",
    "print(\"Total number of images: \")\n",
    "total_num_images = images.shape[0]\n",
    "print(total_num_images)\n",
    "\n",
    "# Count the amount of images with a given label.\n",
    "print()\n",
    "print(\"Number of images with a given label:\")\n",
    "for n, elm in enumerate(np.unique(labels, return_counts=True)[-1]):\n",
    "    print(f\"Label {n}: {elm} ({np.round(elm/total_num_images*100, 1)}%)\")"
   ]
  },
  {
   "cell_type": "code",
   "execution_count": null,
   "metadata": {
    "colab": {
     "base_uri": "https://localhost:8080/",
     "height": 269
    },
    "executionInfo": {
     "elapsed": 25372,
     "status": "ok",
     "timestamp": 1731183898723,
     "user": {
      "displayName": "Francesco Pesce",
      "userId": "06928891303402167220"
     },
     "user_tz": -60
    },
    "id": "VXJLnm3MXc5r",
    "outputId": "7f08ab99-63b5-4dc9-b839-eb5b8f2ada5b"
   },
   "outputs": [],
   "source": [
    "# Display the first few images with matplotlib.\n",
    "plotted_images = 6\n",
    "fig, axs = plt.subplots(1, plotted_images, figsize=(20, 20))\n",
    "\n",
    "for i in range(plotted_images):\n",
    "    axs[i].imshow(images[i])\n",
    "    axs[i].set_title(f\"Label: {labels[i]}\")\n",
    "    axs[i].axis('off')\n",
    "\n",
    "plt.show()\n"
   ]
  },
  {
   "cell_type": "markdown",
   "metadata": {},
   "source": [
    "## Split in train, validation and test sets"
   ]
  },
  {
   "cell_type": "code",
   "execution_count": null,
   "metadata": {},
   "outputs": [],
   "source": [
    "from sklearn.model_selection import train_test_split\n",
    "\n",
    "# Split the dataset into a combined training and validation set, and a separate\n",
    "# test set.\n",
    "X_train_val, X_test, y_train_val, y_test = train_test_split(\n",
    "    images,\n",
    "    labels,\n",
    "    test_size=0.1,\n",
    "    random_state=seed,\n",
    "    stratify=labels\n",
    ")\n",
    "\n",
    "# Split the training and validation sets.\n",
    "X_train, X_val, y_train, y_val = train_test_split(\n",
    "    X_train_val,\n",
    "    y_train_val,\n",
    "    test_size=0.2,\n",
    "    random_state=seed,\n",
    "    stratify=y_train_val\n",
    ")\n",
    "\n",
    "# Print the shapes of the resulting sets.\n",
    "print('Overall shape:\\t\\t', images.shape, labels.shape)\n",
    "print('Training set shape:\\t', X_train.shape, y_train.shape)\n",
    "print('Validation set shape:\\t', X_val.shape, y_val.shape)\n",
    "print('Test set shape:\\t\\t', X_test.shape, y_test.shape)"
   ]
  },
  {
   "cell_type": "markdown",
   "metadata": {},
   "source": [
    "## Process data"
   ]
  },
  {
   "cell_type": "markdown",
   "metadata": {},
   "source": [
    "### Overlay images with another image"
   ]
  },
  {
   "cell_type": "code",
   "execution_count": null,
   "metadata": {},
   "outputs": [],
   "source": [
    "def overlay(image, background_name, alpha):\n",
    "    # Pick two random images from the dataset.\n",
    "    image_background = tfk.preprocessing.image.load_img(background_name)\n",
    "    image_background = tfk.preprocessing.image.img_to_array(image_background).astype('uint8')\n",
    "    image_overlay = image\n",
    "\n",
    "    # Set the input image to be in the range [0, 1],\n",
    "    # with type float32.\n",
    "    image_background = image_background.astype('float32') / 255\n",
    "    image_overlay = image_overlay.astype('float32') / 255\n",
    "\n",
    "    # Multiply the background image by the overlay image.\n",
    "    image_result = alpha*image_background + (1-alpha)*image_overlay\n",
    "\n",
    "    # Clip the result image to be in the range [0, 1].\n",
    "    image_result = np.clip(image_result, 0, 1)\n",
    "\n",
    "    # Set it back to a 0 to 255 uint8 image.\n",
    "    image_result = (image_result * 255).astype('uint8')\n",
    "\n",
    "    return image_result"
   ]
  },
  {
   "cell_type": "code",
   "execution_count": null,
   "metadata": {},
   "outputs": [],
   "source": [
    "# Pick two random images from the dataset.\n",
    "background_filename = \"overlays/monster.jpeg\"\n",
    "image_background = tfk.preprocessing.image.load_img(background_filename)\n",
    "image_background = tfk.preprocessing.image.img_to_array(image_background).astype('uint8')\n",
    "image_overlay = images[1]\n",
    "\n",
    "# Display the images.\n",
    "fig, axs = plt.subplots(1, 3, figsize=(20, 20))\n",
    "\n",
    "axs[0].imshow(image_background)\n",
    "axs[0].set_title(\"Background\")\n",
    "axs[0].axis('off')\n",
    "\n",
    "axs[1].imshow(image_overlay)\n",
    "axs[1].set_title(\"Overlay\")\n",
    "axs[1].axis('off')\n",
    "\n",
    "# Clip the result image to be in the range [0, 1].\n",
    "image_result = overlay(image_overlay, background_filename, 0.6)\n",
    "\n",
    "print(\"First pixel of the result image:\")\n",
    "print(image_result[0, 0])\n",
    "\n",
    "axs[2].imshow(image_result)\n",
    "axs[2].set_title(\"Result\")\n",
    "axs[2].axis('off')\n",
    "\n",
    "plt.show()\n"
   ]
  },
  {
   "cell_type": "code",
   "execution_count": null,
   "metadata": {},
   "outputs": [],
   "source": [
    "import os\n",
    "random.seed(seed)\n",
    "\n",
    "alpha_range = [0.25, 0.75]\n",
    "\n",
    "# Overlay images in each set, using different images for different sets.\n",
    "overlays = [f for f in os.listdir(\"keras_overlays\")]\n",
    "for i, over in enumerate(overlays):\n",
    "    overlays[i] = \"keras_overlays/\" + over\n",
    "\n",
    "num_overlays = len(overlays)\n",
    "train_ratio = X_train.shape[0] / images.shape[0]\n",
    "val_ratio = X_val.shape[0] / images.shape[0]\n",
    "test_ratio = X_test.shape[0] / images.shape[0]\n",
    "\n",
    "end_train_idx = int(train_ratio*num_overlays)\n",
    "end_val_idx = int((train_ratio+val_ratio)*num_overlays)\n",
    "train_overlays = overlays[:end_train_idx]\n",
    "val_overlays = overlays[end_train_idx:end_val_idx]\n",
    "test_overlays = overlays[end_val_idx:]\n",
    "\n",
    "image_sets = [X_train, X_val, X_test]\n",
    "overlays_list = [train_overlays, val_overlays, test_overlays]\n",
    "\n",
    "for i in range(3):\n",
    "    image_set = image_sets[i]\n",
    "    set_overlays = overlays_list[i]\n",
    "    for idx, image in enumerate(image_set):\n",
    "        img_overlay = random.choice(set_overlays)\n",
    "        alpha = alpha_range[0] + random.random()*(alpha_range[1]-alpha_range[0])\n",
    "        image_set[idx] = overlay(image, img_overlay, alpha)"
   ]
  },
  {
   "cell_type": "code",
   "execution_count": null,
   "metadata": {
    "colab": {
     "base_uri": "https://localhost:8080/",
     "height": 187
    },
    "executionInfo": {
     "elapsed": 1686,
     "status": "ok",
     "timestamp": 1731183908817,
     "user": {
      "displayName": "Francesco Pesce",
      "userId": "06928891303402167220"
     },
     "user_tz": -60
    },
    "id": "kX2zZSDSXc5v",
    "outputId": "084295d2-9553-46d3-b992-ff528499dc1f"
   },
   "outputs": [],
   "source": [
    "# Display a sample of images from the dataset.\n",
    "set_to_sample = X_train\n",
    "labels_to_sample = y_train\n",
    "num_img = 10\n",
    "random_indices = random.sample(range(len(set_to_sample)), num_img)\n",
    "\n",
    "fig, axes = plt.subplots(1, num_img, figsize=(20, 20))\n",
    "\n",
    "# Iterate through the selected number of images.\n",
    "for i, idx in enumerate(random_indices):\n",
    "    ax = axes[i % num_img]\n",
    "    ax.imshow(np.squeeze(set_to_sample[idx]), vmin=0., vmax=1.)\n",
    "    ax.set_title(str(data['labels'][labels_to_sample[idx][0]]))\n",
    "    ax.axis('off')\n",
    "\n",
    "# Adjust layout and display the images.\n",
    "plt.tight_layout()\n",
    "plt.show()"
   ]
  },
  {
   "cell_type": "markdown",
   "metadata": {
    "id": "xZ4JqFDaXc5w"
   },
   "source": [
    "### Normalize data and encode labels"
   ]
  },
  {
   "cell_type": "code",
   "execution_count": null,
   "metadata": {
    "colab": {
     "base_uri": "https://localhost:8080/"
    },
    "executionInfo": {
     "elapsed": 1210,
     "status": "ok",
     "timestamp": 1731183910019,
     "user": {
      "displayName": "Francesco Pesce",
      "userId": "06928891303402167220"
     },
     "user_tz": -60
    },
    "id": "jCzbB2S8Xc5w",
    "outputId": "367b7b64-febd-4d88-e6dc-b5d976b140b4"
   },
   "outputs": [],
   "source": [
    "# Normalize data to the range [0, 1].\n",
    "X_train = (X_train / 255).astype('float32')\n",
    "X_val = (X_val / 255).astype('float32')\n",
    "\n",
    "# Print the first few pixel values of the first image, to verify that the\n",
    "# normalization was successful.\n",
    "print('First image pixel values:')\n",
    "print(X_train[0, 0, 0, :])\n",
    "\n",
    "# Convert labels to categorical format using one-hot encoding.\n",
    "y_train = tfk.utils.to_categorical(y_train)\n",
    "y_val = tfk.utils.to_categorical(y_val)"
   ]
  },
  {
   "cell_type": "markdown",
   "metadata": {
    "id": "Yf1-rz1OXc5x"
   },
   "source": [
    "## 🧮 Define Network Parameters"
   ]
  },
  {
   "cell_type": "code",
   "execution_count": null,
   "metadata": {
    "colab": {
     "base_uri": "https://localhost:8080/"
    },
    "executionInfo": {
     "elapsed": 17,
     "status": "ok",
     "timestamp": 1731183910020,
     "user": {
      "displayName": "Francesco Pesce",
      "userId": "06928891303402167220"
     },
     "user_tz": -60
    },
    "id": "LGCY8oQmXc5y",
    "outputId": "51d93380-0fff-46b9-a792-86777a0b6e69"
   },
   "outputs": [],
   "source": [
    "# Input shape for the model.\n",
    "input_shape = X_train.shape[1:]\n",
    "\n",
    "# Output shape for the model.\n",
    "output_shape = y_train.shape[1]\n",
    "\n",
    "print(\"Input Shape:\", input_shape)\n",
    "print(\"Output Shape:\", output_shape)"
   ]
  },
  {
   "cell_type": "code",
   "execution_count": null,
   "metadata": {
    "colab": {
     "base_uri": "https://localhost:8080/"
    },
    "executionInfo": {
     "elapsed": 12,
     "status": "ok",
     "timestamp": 1731183910020,
     "user": {
      "displayName": "Francesco Pesce",
      "userId": "06928891303402167220"
     },
     "user_tz": -60
    },
    "id": "660E8FDrXc5y",
    "outputId": "9e82025b-97ac-4891-ebf0-c3945feb1346"
   },
   "outputs": [],
   "source": [
    "# Number of training epochs.\n",
    "epochs = 1000\n",
    "\n",
    "# Batch size for training.\n",
    "batch_size = 128\n",
    "\n",
    "# Learning rate: step size for updating the model's weights.\n",
    "learning_rate = 0.001\n",
    "\n",
    "# Print the defined parameters.\n",
    "print(\"Epochs:\", epochs)\n",
    "print(\"Batch Size:\", batch_size)\n",
    "print(\"Learning Rate:\", learning_rate)"
   ]
  },
  {
   "cell_type": "markdown",
   "metadata": {
    "id": "U4m94OMahoOT"
   },
   "source": [
    "## 💪 Image Augmentation"
   ]
  },
  {
   "cell_type": "code",
   "execution_count": null,
   "metadata": {
    "colab": {
     "base_uri": "https://localhost:8080/"
    },
    "executionInfo": {
     "elapsed": 7517,
     "status": "ok",
     "timestamp": 1731183917530,
     "user": {
      "displayName": "Francesco Pesce",
      "userId": "06928891303402167220"
     },
     "user_tz": -60
    },
    "id": "srKXSNhaF4vW",
    "outputId": "b5549f9a-5d8b-4be4-fef7-159970e357f1"
   },
   "outputs": [],
   "source": [
    "#!python3 -m pip install keras_cv"
   ]
  },
  {
   "cell_type": "code",
   "execution_count": null,
   "metadata": {
    "colab": {
     "base_uri": "https://localhost:8080/",
     "height": 312
    },
    "executionInfo": {
     "elapsed": 18112,
     "status": "ok",
     "timestamp": 1731183935624,
     "user": {
      "displayName": "Francesco Pesce",
      "userId": "06928891303402167220"
     },
     "user_tz": -60
    },
    "id": "FIut3cntEVY4",
    "outputId": "4902d649-c252-4db6-db63-8122651fda0f"
   },
   "outputs": [],
   "source": [
    "import matplotlib.gridspec as gridspec\n",
    "img = X_train[0]\n",
    "\n",
    "# Define a sequential model for image augmentation.\n",
    "augmentation = tf.keras.Sequential([\n",
    "    tfkl.RandomFlip(\"horizontal_and_vertical\"),\n",
    "    tfkl.RandomTranslation(0.2,0.2),\n",
    "    tfkl.RandomRotation(0.2),\n",
    "    tfkl.RandomZoom(0.2),\n",
    "    tfkl.RandomBrightness(0.5, value_range=(0,1)),\n",
    "    tfkl.RandomContrast(0.75),\n",
    "    #keras_cv.layers.RandomSaturation((0.25,0.75)),\n",
    "    #keras_cv.layers.RandomHue((0.25,0.75), [0,1]),\n",
    "], name='preprocessing')\n",
    "\n",
    "# Set up the figure and grid layout for displaying images.\n",
    "fig = plt.figure(constrained_layout=True, figsize=(12, 3))\n",
    "gs = gridspec.GridSpec(1, 4, figure=fig, width_ratios=[1, 1, 1, 1], wspace=0.1)\n",
    "\n",
    "# Display the original image.\n",
    "ax1 = fig.add_subplot(gs[0])\n",
    "ax1.imshow(np.squeeze(img))\n",
    "ax1.axis('off')\n",
    "\n",
    "# Apply augmentation and display the first augmented image.\n",
    "augmented_img = np.clip(augmentation(img), 0., 1.)\n",
    "ax2 = fig.add_subplot(gs[1])\n",
    "ax2.imshow(np.squeeze(augmented_img))\n",
    "ax2.axis('off')\n",
    "\n",
    "# Apply augmentation again and display the second augmented image.\n",
    "augmented_img = np.clip(augmentation(img), 0., 1.)\n",
    "ax3 = fig.add_subplot(gs[2])\n",
    "ax3.imshow(np.squeeze(augmented_img))\n",
    "ax3.axis('off')\n",
    "\n",
    "# Apply augmentation again and display the third augmented image.\n",
    "augmented_img = np.clip(augmentation(img), 0., 1.)\n",
    "ax4 = fig.add_subplot(gs[3])\n",
    "ax4.imshow(np.squeeze(augmented_img))\n",
    "ax4.axis('off')\n",
    "\n",
    "# Show the figure with all images.\n",
    "plt.show()"
   ]
  },
  {
   "cell_type": "markdown",
   "metadata": {
    "id": "BcuOtrfwXc5z"
   },
   "source": [
    "## 🛠️ Build the Model"
   ]
  },
  {
   "cell_type": "code",
   "execution_count": null,
   "metadata": {
    "executionInfo": {
     "elapsed": 240,
     "status": "ok",
     "timestamp": 1731184864492,
     "user": {
      "displayName": "Francesco Pesce",
      "userId": "06928891303402167220"
     },
     "user_tz": -60
    },
    "id": "VqrlpQsIXc50"
   },
   "outputs": [],
   "source": [
    "def build_model(\n",
    "    input_shape=input_shape,\n",
    "    output_shape=output_shape,\n",
    "    learning_rate=learning_rate,\n",
    "    augmentation=None,\n",
    "    seed=seed\n",
    "):\n",
    "    # Set the random seed for reproducibility.\n",
    "    tf.random.set_seed(seed)\n",
    "\n",
    "    # Define the input layer\n",
    "    input_layer = tfkl.Input(shape=input_shape, name='Input')\n",
    "\n",
    "    # Apply optional data augmentation, then first convolutional layer.\n",
    "    if augmentation == None:\n",
    "        x = tfkl.Conv2D(filters=16, kernel_size=3, padding='same', name='conv0')(input_layer)\n",
    "    else:\n",
    "        x = augmentation(input_layer)\n",
    "        x = tfkl.Conv2D(filters=16, kernel_size=3, padding='same', name='conv0')(x)\n",
    "\n",
    "    # Apply activation and pooling after the first convolution.\n",
    "    x = tfkl.ReLU(name='relu0')(x)\n",
    "    x = tfkl.MaxPooling2D(name='mp0')(x)\n",
    "\n",
    "    # Apply second convolutional layer, activation, and pooling.\n",
    "    x = tfkl.Conv2D(filters=32, kernel_size=3, padding='same', name='conv1')(x)\n",
    "    x = tfkl.ReLU(name='relu1')(x)\n",
    "    x = tfkl.MaxPooling2D(name='mp1')(x)\n",
    "\n",
    "    # Apply third convolutional layer, activation, and pooling.\n",
    "    x = tfkl.Conv2D(filters=64, kernel_size=3, padding='same', name='conv2')(x)\n",
    "    x = tfkl.ReLU(name='relu2')(x)\n",
    "    x = tfkl.MaxPooling2D(name='mp2')(x)\n",
    "\n",
    "    # Apply fourth convolutional layer, activation, and pooling.\n",
    "    x = tfkl.Conv2D(filters=128, kernel_size=3, padding='same', name='conv3')(x)\n",
    "    x = tfkl.ReLU(name='relu3')(x)\n",
    "    x = tfkl.MaxPooling2D(name='mp3')(x)\n",
    "\n",
    "    # Apply a fifth convolutional layer with activation.\n",
    "    x = tfkl.Conv2D(filters=256, kernel_size=3, padding='same', name='conv4')(x)\n",
    "    x = tfkl.ReLU(name='relu4')(x)\n",
    "\n",
    "    # Apply global average pooling.\n",
    "    x = tfkl.GlobalAveragePooling2D(name='gap')(x)\n",
    "\n",
    "    # Add a dense layer with activation.\n",
    "    x = tfkl.Dense(units=128, name='dense1')(x)\n",
    "    x = tfkl.ReLU(name='relu5')(x)\n",
    "    # Add a dropout layer to prevent overfitting.\n",
    "    x = tfkl.Dropout(rate=0.6, name='dropout')(x)\n",
    "\n",
    "    # Define the output layer with softmax activation for classification.\n",
    "    x = tfkl.Dense(units=output_shape, name='dense2')(x)\n",
    "    output_layer = tfkl.Activation('softmax', name='softmax')(x)\n",
    "\n",
    "    # Create the model.\n",
    "    model = tfk.Model(inputs=input_layer, outputs=output_layer, name='CNN')\n",
    "\n",
    "    # Compile the model with categorical crossentropy loss and Adam optimizer.\n",
    "    loss = tfk.losses.CategoricalCrossentropy()\n",
    "    optimizer = tfk.optimizers.Adam(learning_rate)\n",
    "    metrics = ['accuracy']\n",
    "    model.compile(loss=loss, optimizer=optimizer, metrics=metrics)\n",
    "\n",
    "    # Return the compiled model.\n",
    "    return model"
   ]
  },
  {
   "cell_type": "code",
   "execution_count": null,
   "metadata": {
    "colab": {
     "base_uri": "https://localhost:8080/",
     "height": 1000
    },
    "executionInfo": {
     "elapsed": 2171,
     "status": "ok",
     "timestamp": 1731184973630,
     "user": {
      "displayName": "Francesco Pesce",
      "userId": "06928891303402167220"
     },
     "user_tz": -60
    },
    "id": "6jxjWSTPiVhg",
    "outputId": "b737bf93-6a53-42ce-e488-3b505770a1ac"
   },
   "outputs": [],
   "source": [
    "augmentation = tf.keras.Sequential([\n",
    "    tfkl.RandomFlip(\"horizontal_and_vertical\"),\n",
    "    tfkl.RandomTranslation(0.2,0.2),\n",
    "    tfkl.RandomRotation(0.2),\n",
    "    tfkl.RandomZoom(0.2),\n",
    "    tfkl.RandomBrightness(0.5, value_range=(0,1)),\n",
    "    tfkl.RandomContrast(0.75),\n",
    "    #keras_cv.layers.RandomSaturation((0.25,0.75)),\n",
    "    #keras_cv.layers.RandomHue((0.25,0.75), [0,1]),\n",
    "], name='preprocessing')\n",
    "\n",
    "# Build the model with specified input and output shapes.\n",
    "model = build_model(augmentation=augmentation)\n",
    "\n",
    "# Display a summary of the model architecture.\n",
    "model.summary(expand_nested=True, show_trainable=True)\n",
    "\n",
    "# Plot the model architecture.\n",
    "try:\n",
    "    tfk.utils.plot_model(model, expand_nested=True, show_trainable=True, show_shapes=True, dpi=70)\n",
    "except:\n",
    "    print(\"Model too complex to plot.\")"
   ]
  },
  {
   "cell_type": "markdown",
   "metadata": {
    "id": "FSliIxBvbs2Q"
   },
   "source": [
    "## 🛠️ Train and Save the Model"
   ]
  },
  {
   "cell_type": "code",
   "execution_count": null,
   "metadata": {
    "executionInfo": {
     "elapsed": 253,
     "status": "ok",
     "timestamp": 1731185024802,
     "user": {
      "displayName": "Francesco Pesce",
      "userId": "06928891303402167220"
     },
     "user_tz": -60
    },
    "id": "O9ZerUc8Xc52"
   },
   "outputs": [],
   "source": [
    "# Define the patience value for early stopping.\n",
    "patience = 40\n",
    "\n",
    "# Create an EarlyStopping callback.\n",
    "early_stopping = tfk.callbacks.EarlyStopping(\n",
    "    monitor='val_accuracy',\n",
    "    mode='max',\n",
    "    patience=patience,\n",
    "    restore_best_weights=True\n",
    ")\n",
    "\n",
    "# Store the callback in a list.\n",
    "callbacks = [early_stopping]"
   ]
  },
  {
   "cell_type": "code",
   "execution_count": null,
   "metadata": {
    "colab": {
     "base_uri": "https://localhost:8080/"
    },
    "executionInfo": {
     "elapsed": 565664,
     "status": "ok",
     "timestamp": 1731176795036,
     "user": {
      "displayName": "Francesco Pesce",
      "userId": "06928891303402167220"
     },
     "user_tz": -60
    },
    "id": "IlfMD2bwXc52",
    "outputId": "68e96674-ff0e-4c24-aa4c-d73ac30c9e82"
   },
   "outputs": [],
   "source": [
    "# Train the model with early stopping callback.\n",
    "history = model.fit(\n",
    "    x=X_train,\n",
    "    y=y_train,\n",
    "    batch_size=batch_size,\n",
    "    epochs=epochs,\n",
    "    validation_data=(X_val, y_val),\n",
    "    callbacks=callbacks\n",
    ").history\n",
    "\n",
    "# Calculate and print the final validation accuracy.\n",
    "final_val_accuracy = round(max(history['val_accuracy'])* 100, 2)\n",
    "print(f'Final validation accuracy: {final_val_accuracy}%')\n",
    "\n",
    "# Save the trained model to a file with the accuracy included in the filename.\n",
    "model_filename = 'weights.keras'\n",
    "model.save(model_filename)\n",
    "\n",
    "# Delete the model to free up resources.\n",
    "del model"
   ]
  },
  {
   "cell_type": "code",
   "execution_count": null,
   "metadata": {
    "colab": {
     "base_uri": "https://localhost:8080/",
     "height": 457
    },
    "executionInfo": {
     "elapsed": 1244,
     "status": "ok",
     "timestamp": 1731176850308,
     "user": {
      "displayName": "Francesco Pesce",
      "userId": "06928891303402167220"
     },
     "user_tz": -60
    },
    "id": "ox9jqYyyUJo0",
    "outputId": "7fc82126-1864-4da2-9efd-40e62cc2fdfb"
   },
   "outputs": [],
   "source": [
    "# Plot training and validation loss.\n",
    "plt.figure(figsize=(15, 2))\n",
    "plt.plot(history['loss'], label='Training loss', alpha=.8)\n",
    "plt.plot(history['val_loss'], label='Validation loss', alpha=.8)\n",
    "plt.title('Loss')\n",
    "plt.legend()\n",
    "plt.grid(alpha=.3)\n",
    "\n",
    "# Plot training and validation accuracy.\n",
    "plt.figure(figsize=(15, 2))\n",
    "plt.plot(history['accuracy'], label='Training accuracy', alpha=.8)\n",
    "plt.plot(history['val_accuracy'], label='Validation accuracy', alpha=.8)\n",
    "plt.title('Accuracy')\n",
    "plt.legend()\n",
    "plt.grid(alpha=.3)\n",
    "plt.show()"
   ]
  },
  {
   "cell_type": "markdown",
   "metadata": {
    "id": "RNp6pUZuddqC"
   },
   "source": [
    "## 📊 Prepare the Submission\n",
    "\n",
    "To prepare your submission, create a `.zip` file that includes all the necessary code to run your model. It **must** include a `model.py` file with the following class:\n",
    "\n",
    "```python\n",
    "# file: model.py\n",
    "class Model:\n",
    "    def __init__(self):\n",
    "        \"\"\"Initialize the internal state of the model.\"\"\"\n",
    "\n",
    "    def predict(self, X):\n",
    "        \"\"\"Return a numpy array with the labels corresponding to the input X.\"\"\"\n",
    "```\n",
    "\n",
    "The next cell shows an example implementation of the `model.py` file, which includes loading model weights from the `weights.keras` file and conducting predictions on provided input data. The `.zip` file is created and downloaded in the last notebook cell.\n",
    "\n",
    "❗ Feel free to modify the method implementations to better fit your specific requirements, but please ensure that the class name and method interfaces remain unchanged."
   ]
  },
  {
   "cell_type": "code",
   "execution_count": null,
   "metadata": {
    "colab": {
     "base_uri": "https://localhost:8080/"
    },
    "executionInfo": {
     "elapsed": 370,
     "status": "ok",
     "timestamp": 1731176863578,
     "user": {
      "displayName": "Francesco Pesce",
      "userId": "06928891303402167220"
     },
     "user_tz": -60
    },
    "id": "RKT4h-9xYwiT",
    "outputId": "7a126497-3510-4325-cd41-ae2cc9e7fc04"
   },
   "outputs": [],
   "source": [
    "%%writefile model.py\n",
    "import numpy as np\n",
    "\n",
    "import tensorflow as tf\n",
    "from tensorflow import keras as tfk\n",
    "from tensorflow.keras import layers as tfkl\n",
    "\n",
    "\n",
    "class Model:\n",
    "    def __init__(self):\n",
    "        # Load the CNN.\n",
    "        self.neural_network = tfk.models.load_model('weights.keras')\n",
    "\n",
    "    def predict(self, X):\n",
    "        # Map X to [0,1].\n",
    "        X_normalized = (X / 255).astype('float32')\n",
    "\n",
    "        # Predict.\n",
    "        preds = self.neural_network.predict(X_normalized)\n",
    "        if len(preds.shape) == 2:\n",
    "            preds = np.argmax(preds, axis=1)\n",
    "        return preds"
   ]
  },
  {
   "cell_type": "code",
   "execution_count": null,
   "metadata": {
    "colab": {
     "base_uri": "https://localhost:8080/",
     "height": 52
    },
    "executionInfo": {
     "elapsed": 589,
     "status": "ok",
     "timestamp": 1731176866398,
     "user": {
      "displayName": "Francesco Pesce",
      "userId": "06928891303402167220"
     },
     "user_tz": -60
    },
    "id": "s18kX1uDconq",
    "outputId": "8c458d79-7665-4c2a-8e0f-b2dd2901d845"
   },
   "outputs": [],
   "source": [
    "from datetime import datetime\n",
    "filename = f'submission_{datetime.now().strftime(\"%y%m%d_%H%M%S\")}.zip'\n",
    "\n",
    "# Add files to the zip command if needed.\n",
    "!zip {filename} model.py weights.keras\n",
    "\n",
    "#from google.colab import files\n",
    "#files.download(filename)"
   ]
  },
  {
   "cell_type": "markdown",
   "metadata": {
    "id": "O2dQ5qTUtc6e"
   },
   "source": [
    "## 🕹️ Test the Model"
   ]
  },
  {
   "cell_type": "code",
   "execution_count": null,
   "metadata": {
    "executionInfo": {
     "elapsed": 12864,
     "status": "ok",
     "timestamp": 1731176945353,
     "user": {
      "displayName": "Francesco Pesce",
      "userId": "06928891303402167220"
     },
     "user_tz": -60
    },
    "id": "qHFbbq-N1M0Z"
   },
   "outputs": [],
   "source": [
    "import model\n",
    "model_object = model.Model()"
   ]
  },
  {
   "cell_type": "code",
   "execution_count": 25,
   "metadata": {
    "colab": {
     "base_uri": "https://localhost:8080/",
     "height": 629
    },
    "executionInfo": {
     "elapsed": 6162,
     "status": "ok",
     "timestamp": 1731177012575,
     "user": {
      "displayName": "Francesco Pesce",
      "userId": "06928891303402167220"
     },
     "user_tz": -60
    },
    "id": "YcCnmSTBty-_",
    "outputId": "6bdab44e-e267-4d60-ca42-75ef93636d47"
   },
   "outputs": [
    {
     "name": "stdout",
     "output_type": "stream",
     "text": [
      "\u001b[1m38/38\u001b[0m \u001b[32m━━━━━━━━━━━━━━━━━━━━\u001b[0m\u001b[37m\u001b[0m \u001b[1m0s\u001b[0m 8ms/step\n",
      "Accuracy score over the test set: 0.8779\n",
      "Precision score over the test set: 0.8999\n",
      "Recall score over the test set: 0.8779\n",
      "F1 score over the test set: 0.8787\n"
     ]
    },
    {
     "data": {
      "image/png": "[encoded data removed]",
      "text/plain": [
       "<Figure size 800x600 with 2 Axes>"
      ]
     },
     "metadata": {},
     "output_type": "display_data"
    }
   ],
   "source": [
    "from sklearn.metrics import accuracy_score, f1_score, precision_score, recall_score, confusion_matrix\n",
    "import seaborn as sns\n",
    "\n",
    "# Predict class probabilities and get predicted classes.\n",
    "test_predictions = model_object.predict(X_test)\n",
    "\n",
    "# Extract ground truth classes.\n",
    "test_gt = y_test\n",
    "\n",
    "# Calculate and display test set accuracy.\n",
    "test_accuracy = accuracy_score(test_gt, test_predictions)\n",
    "print(f'Accuracy score over the test set: {round(test_accuracy, 4)}')\n",
    "\n",
    "# Calculate and display test set precision.\n",
    "test_precision = precision_score(test_gt, test_predictions, average='weighted')\n",
    "print(f'Precision score over the test set: {round(test_precision, 4)}')\n",
    "\n",
    "# Calculate and display test set recall.\n",
    "test_recall = recall_score(test_gt, test_predictions, average='weighted')\n",
    "print(f'Recall score over the test set: {round(test_recall, 4)}')\n",
    "\n",
    "# Calculate and display test set F1 score.\n",
    "test_f1 = f1_score(test_gt, test_predictions, average='weighted')\n",
    "print(f'F1 score over the test set: {round(test_f1, 4)}')\n",
    "\n",
    "# Compute the confusion matrix.\n",
    "cm = confusion_matrix(test_gt, test_predictions)\n",
    "\n",
    "# Create labels combining confusion matrix values.\n",
    "labels = np.array([f\"{num}\" for num in cm.flatten()]).reshape(cm.shape)\n",
    "\n",
    "# Plot the confusion matrix with class labels.\n",
    "plt.figure(figsize=(8, 6))\n",
    "sns.heatmap(cm, annot=labels, fmt='', xticklabels=range(8), yticklabels=range(8), cmap='Blues')\n",
    "plt.xlabel('True labels')\n",
    "plt.ylabel('Predicted labels')\n",
    "plt.show()"
   ]
  }
 ],
 "metadata": {
  "accelerator": "GPU",
  "colab": {
   "gpuType": "T4",
   "provenance": [],
   "toc_visible": true
  },
  "kernelspec": {
   "display_name": "Python 3",
   "language": "python",
   "name": "python3"
  },
  "language_info": {
   "codemirror_mode": {
    "name": "ipython",
    "version": 3
   },
   "file_extension": ".py",
   "mimetype": "text/x-python",
   "name": "python",
   "nbconvert_exporter": "python",
   "pygments_lexer": "ipython3",
   "version": "3.10.12"
  }
 },
 "nbformat": 4,
 "nbformat_minor": 0
}
